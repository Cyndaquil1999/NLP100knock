{
 "cells": [
  {
   "attachments": {},
   "cell_type": "markdown",
   "metadata": {},
   "source": [
    "Q1"
   ]
  },
  {
   "cell_type": "code",
   "execution_count": 1,
   "metadata": {},
   "outputs": [
    {
     "name": "stdout",
     "output_type": "stream",
     "text": [
      "desserts\n"
     ]
    }
   ],
   "source": [
    "print(\"stressed\"[::-1])"
   ]
  },
  {
   "attachments": {},
   "cell_type": "markdown",
   "metadata": {},
   "source": [
    "Q2"
   ]
  },
  {
   "cell_type": "code",
   "execution_count": 2,
   "metadata": {},
   "outputs": [
    {
     "name": "stdout",
     "output_type": "stream",
     "text": [
      "パトカー\n"
     ]
    }
   ],
   "source": [
    "String = \"パタトクカシーー\"\n",
    "ans = \"\"\n",
    "\n",
    "for i in range(len(String)):\n",
    "    if i % 2 == 0:\n",
    "        ans += String[i]\n",
    "print(ans)"
   ]
  },
  {
   "attachments": {},
   "cell_type": "markdown",
   "metadata": {},
   "source": [
    "Q3"
   ]
  },
  {
   "cell_type": "code",
   "execution_count": 3,
   "metadata": {},
   "outputs": [
    {
     "name": "stdout",
     "output_type": "stream",
     "text": [
      "パタトクカシーー\n"
     ]
    }
   ],
   "source": [
    "word1 = \"パトカー\"\n",
    "word2 = \"タクシー\"\n",
    "ans = \"\"\n",
    "\n",
    "for i, j in zip(word1,word2):\n",
    "    ans += i + j\n",
    "print(ans)"
   ]
  },
  {
   "attachments": {},
   "cell_type": "markdown",
   "metadata": {},
   "source": [
    "Q4"
   ]
  },
  {
   "cell_type": "code",
   "execution_count": 4,
   "metadata": {},
   "outputs": [
    {
     "name": "stdout",
     "output_type": "stream",
     "text": [
      "['Now', 'I', 'need', 'a', 'drink,', 'alcoholic', 'of', 'course,', 'after', 'the', 'heavy', 'lectures', 'involving', 'quantum', 'mechanics.']\n"
     ]
    }
   ],
   "source": [
    "String = \"Now I need a drink, alcoholic of course, after the heavy lectures involving quantum mechanics.\"\n",
    "print(String.split(\" \"))"
   ]
  },
  {
   "attachments": {},
   "cell_type": "markdown",
   "metadata": {},
   "source": [
    "Q5"
   ]
  },
  {
   "cell_type": "code",
   "execution_count": 24,
   "metadata": {},
   "outputs": [
    {
     "data": {
      "text/plain": [
       "[['I', 'am'], ['an', 'NLPer']]"
      ]
     },
     "execution_count": 24,
     "metadata": {},
     "output_type": "execute_result"
    }
   ],
   "source": [
    "def n_gram(String, N):\n",
    "    n_gram_list = []\n",
    "    for i in range(0,len(String),N):\n",
    "        n_gram_list.append(String[i:i+N])\n",
    "    return n_gram_list\n",
    "\n",
    "String = \"I am an NLPer\"\n",
    "n_gram(String.split(\" \"), 2)    "
   ]
  },
  {
   "attachments": {},
   "cell_type": "markdown",
   "metadata": {},
   "source": [
    "Q6"
   ]
  },
  {
   "cell_type": "code",
   "execution_count": 36,
   "metadata": {},
   "outputs": [
    {
     "name": "stdout",
     "output_type": "stream",
     "text": [
      "{'pa', 'di', 'se', 'ra'} {'ra', 'pa', 'gr', 'ap', 'h'}\n",
      "{'ra', 'pa', 'h', 'gr', 'ap', 'di', 'se'}\n",
      "{'pa', 'ra'}\n",
      "{'di', 'se'}\n",
      "False\n"
     ]
    }
   ],
   "source": [
    "def n_gram(String, N):\n",
    "    n_gram_list = []\n",
    "    for i in range(0,len(String),N):\n",
    "        n_gram_list.append(String[i:i+N])\n",
    "    return n_gram_list\n",
    "\n",
    "X = set(n_gram(\"paraparaparadise\", 2))\n",
    "Y = set(n_gram(\"paragraph\", 2))\n",
    "\n",
    "print(X, Y)\n",
    "\n",
    "# 和集合\n",
    "print(X | Y)\n",
    "\n",
    "# 積集合\n",
    "print(X & Y)\n",
    "\n",
    "# 差集合\n",
    "print(X - Y)\n",
    "\n",
    "# seがXおよびYに含まれるか判定\n",
    "print(\"se\" in X and \"se\" in Y)"
   ]
  },
  {
   "attachments": {},
   "cell_type": "markdown",
   "metadata": {},
   "source": [
    "Q7"
   ]
  },
  {
   "cell_type": "code",
   "execution_count": 37,
   "metadata": {},
   "outputs": [
    {
     "name": "stdout",
     "output_type": "stream",
     "text": [
      "12時の気温は22.4\n"
     ]
    }
   ],
   "source": [
    "x = int(input())\n",
    "y = input()\n",
    "z = float(input())\n",
    "\n",
    "print(f\"{x}時の{y}は{z}\")"
   ]
  },
  {
   "attachments": {},
   "cell_type": "markdown",
   "metadata": {},
   "source": [
    "Q8"
   ]
  },
  {
   "cell_type": "code",
   "execution_count": 44,
   "metadata": {},
   "outputs": [
    {
     "data": {
      "text/plain": [
       "'zBx'"
      ]
     },
     "execution_count": 44,
     "metadata": {},
     "output_type": "execute_result"
    }
   ],
   "source": [
    "def cipher(String):\n",
    "    new = \"\"\n",
    "    for s in String:\n",
    "        N = ord(s)\n",
    "        if N >= 97 and N <= 122:\n",
    "            new += chr(219 - ord(s))\n",
    "        else:\n",
    "            new += s\n",
    "    return new\n",
    "\n",
    "cipher(\"aBc\")"
   ]
  },
  {
   "attachments": {},
   "cell_type": "markdown",
   "metadata": {},
   "source": [
    "Q9"
   ]
  },
  {
   "cell_type": "code",
   "execution_count": 46,
   "metadata": {},
   "outputs": [
    {
     "ename": "TypeError",
     "evalue": "Random.sample() missing 1 required positional argument: 'k'",
     "output_type": "error",
     "traceback": [
      "\u001b[1;31m---------------------------------------------------------------------------\u001b[0m",
      "\u001b[1;31mTypeError\u001b[0m                                 Traceback (most recent call last)",
      "Cell \u001b[1;32mIn[46], line 13\u001b[0m\n\u001b[0;32m     10\u001b[0m     \u001b[39mreturn\u001b[39;00m left \u001b[39m+\u001b[39m new \u001b[39m+\u001b[39m right\n\u001b[0;32m     12\u001b[0m String \u001b[39m=\u001b[39m \u001b[39m\"\u001b[39m\u001b[39mI could not believe that I could actually understand what I was reading : the phenomenal power of the human mind .\u001b[39m\u001b[39m\"\u001b[39m\n\u001b[1;32m---> 13\u001b[0m typoglycemia(String)\n",
      "Cell \u001b[1;32mIn[46], line 9\u001b[0m, in \u001b[0;36mtypoglycemia\u001b[1;34m(String)\u001b[0m\n\u001b[0;32m      7\u001b[0m left \u001b[39m=\u001b[39m String[\u001b[39m0\u001b[39m]\n\u001b[0;32m      8\u001b[0m right \u001b[39m=\u001b[39m String[N\u001b[39m-\u001b[39m\u001b[39m1\u001b[39m]\n\u001b[1;32m----> 9\u001b[0m new \u001b[39m=\u001b[39m random\u001b[39m.\u001b[39;49msample(String[\u001b[39m1\u001b[39;49m:N\u001b[39m-\u001b[39;49m\u001b[39m1\u001b[39;49m])\n\u001b[0;32m     10\u001b[0m \u001b[39mreturn\u001b[39;00m left \u001b[39m+\u001b[39m new \u001b[39m+\u001b[39m right\n",
      "\u001b[1;31mTypeError\u001b[0m: Random.sample() missing 1 required positional argument: 'k'"
     ]
    }
   ],
   "source": [
    "import random\n",
    "\n",
    "def typoglycemia(String):\n",
    "    N = len(String)\n",
    "    if N <= 4:\n",
    "        return String\n",
    "    left = String[0]\n",
    "    right = String[N-1]\n",
    "    new = random.sample(String[1:N-1])\n",
    "    return left + new + right\n",
    "    \n",
    "String = \"I could not believe that I could actually understand what I was reading : the phenomenal power of the human mind .\"\n",
    "typoglycemia(String)"
   ]
  }
 ],
 "metadata": {
  "kernelspec": {
   "display_name": "Python 3",
   "language": "python",
   "name": "python3"
  },
  "language_info": {
   "codemirror_mode": {
    "name": "ipython",
    "version": 3
   },
   "file_extension": ".py",
   "mimetype": "text/x-python",
   "name": "python",
   "nbconvert_exporter": "python",
   "pygments_lexer": "ipython3",
   "version": "3.10.8"
  },
  "orig_nbformat": 4
 },
 "nbformat": 4,
 "nbformat_minor": 2
}
